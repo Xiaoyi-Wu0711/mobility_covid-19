{
 "cells": [
  {
   "cell_type": "code",
   "execution_count": 1,
   "id": "7ba82bb0",
   "metadata": {},
   "outputs": [],
   "source": [
    "import pandas as pd\n",
    "import numpy as np\n",
    "\n",
    "import utils\n",
    "\n",
    "pd.set_option('display.max_rows', 5000)\n",
    "pd.set_option('display.max_columns', 500)\n",
    "pd.set_option('display.width', 10000)\n",
    "\n",
    "pd.set_option('display.float_format', '{:.2f}'.format)\n"
   ]
  },
  {
   "cell_type": "markdown",
   "id": "7a604be2",
   "metadata": {},
   "source": [
    "## 1. Data Load with raw dataset\n",
    "Here are 4 datasets:\n",
    "1. One dataset of core places in New York City: shape: \n",
    "    (71468, 22)\n",
    "    \n",
    "2. Three datasets of movement pattern for people live in NYC from:\n",
    "    ##### a. 2019/12/23 to 2020/01/13: shape: (68911, 34)\n",
    "    ##### b. 2020/12/21 to 2021/01/11 : shape: (76202, 34)\n",
    "\n",
    "    ##### c. 2021/12/20 to 2022/01/10 : shape: (120011, 55)\n"
   ]
  },
  {
   "cell_type": "code",
   "execution_count": 2,
   "id": "f6f3ef27",
   "metadata": {},
   "outputs": [
    {
     "data": {
      "text/plain": [
       "'D:\\\\MUSA\\\\CPLN680\\\\mobility_covid-19\\\\scripts'"
      ]
     },
     "execution_count": 2,
     "metadata": {},
     "output_type": "execute_result"
    }
   ],
   "source": [
    "pwd"
   ]
  },
  {
   "cell_type": "code",
   "execution_count": 3,
   "id": "7f05fe42",
   "metadata": {},
   "outputs": [
    {
     "name": "stdout",
     "output_type": "stream",
     "text": [
      "(73483, 31)\n",
      "(91881, 31)\n",
      "(58401, 31)\n"
     ]
    }
   ],
   "source": [
    "pattern_1=pd.read_csv('../data/3.2019-4.2019.csv')\n",
    "print(pattern_1.shape)\n",
    "\n",
    "pattern_2=pd.read_csv('../data/2.2020-4.2020.csv')\n",
    "print(pattern_2.shape)\n",
    "\n",
    "\n",
    "pattern_3=pd.read_csv('../data/3.2021-4.2021.csv')\n",
    "print(pattern_3.shape)\n",
    "\n"
   ]
  },
  {
   "cell_type": "code",
   "execution_count": 4,
   "id": "5556a36f",
   "metadata": {},
   "outputs": [
    {
     "name": "stdout",
     "output_type": "stream",
     "text": [
      "raw_visit_counts      13837548\n",
      "raw_visitor_counts     7657880\n",
      "dtype: int64\n",
      "raw_visit_counts      7822390\n",
      "raw_visitor_counts    4485765\n",
      "dtype: int64\n",
      "raw_visit_counts      4742714\n",
      "raw_visitor_counts    2701775\n",
      "dtype: int64\n"
     ]
    }
   ],
   "source": [
    "#verification\n",
    "tmp=pattern_1.loc[pattern_1['date_range_start']=='2019-03-01T00:00:00-05:00']\n",
    "print(tmp[['raw_visit_counts','raw_visitor_counts']].sum())\n",
    "tmp=pattern_2.loc[pattern_2['date_range_start']=='2020-03-01T00:00:00-05:00']\n",
    "print(tmp[['raw_visit_counts','raw_visitor_counts']].sum())\n",
    "tmp=pattern_3.loc[pattern_3['date_range_start']=='2021-03-01T00:00:00-05:00']\n",
    "print(tmp[['raw_visit_counts','raw_visitor_counts']].sum())"
   ]
  },
  {
   "cell_type": "code",
   "execution_count": 5,
   "id": "b30919a1",
   "metadata": {
    "scrolled": true
   },
   "outputs": [
    {
     "name": "stdout",
     "output_type": "stream",
     "text": [
      "(84717, 22)\n"
     ]
    },
    {
     "data": {
      "text/html": [
       "<div>\n",
       "<style scoped>\n",
       "    .dataframe tbody tr th:only-of-type {\n",
       "        vertical-align: middle;\n",
       "    }\n",
       "\n",
       "    .dataframe tbody tr th {\n",
       "        vertical-align: top;\n",
       "    }\n",
       "\n",
       "    .dataframe thead th {\n",
       "        text-align: right;\n",
       "    }\n",
       "</style>\n",
       "<table border=\"1\" class=\"dataframe\">\n",
       "  <thead>\n",
       "    <tr style=\"text-align: right;\">\n",
       "      <th></th>\n",
       "      <th>placekey</th>\n",
       "      <th>parent_placekey</th>\n",
       "      <th>location_name</th>\n",
       "      <th>safegraph_brand_ids</th>\n",
       "      <th>brands</th>\n",
       "      <th>top_category</th>\n",
       "      <th>sub_category</th>\n",
       "      <th>naics_code</th>\n",
       "      <th>latitude</th>\n",
       "      <th>longitude</th>\n",
       "      <th>street_address</th>\n",
       "      <th>city</th>\n",
       "      <th>region</th>\n",
       "      <th>postal_code</th>\n",
       "      <th>iso_country_code</th>\n",
       "      <th>phone_number</th>\n",
       "      <th>open_hours</th>\n",
       "      <th>category_tags</th>\n",
       "      <th>opened_on</th>\n",
       "      <th>closed_on</th>\n",
       "      <th>tracking_closed_since</th>\n",
       "      <th>geometry_type</th>\n",
       "    </tr>\n",
       "  </thead>\n",
       "  <tbody>\n",
       "    <tr>\n",
       "      <th>0</th>\n",
       "      <td>222-222@627-s4m-vzz</td>\n",
       "      <td>NaN</td>\n",
       "      <td>Just Salad</td>\n",
       "      <td>SG_BRAND_fcc6dd7686cfffc04d325dbe5ab994f1</td>\n",
       "      <td>Just Salad</td>\n",
       "      <td>Restaurants and Other Eating Places</td>\n",
       "      <td>Full-Service Restaurants</td>\n",
       "      <td>722511.00</td>\n",
       "      <td>40.78</td>\n",
       "      <td>-73.96</td>\n",
       "      <td>1471 3rd Ave</td>\n",
       "      <td>New York</td>\n",
       "      <td>NY</td>\n",
       "      <td>10028</td>\n",
       "      <td>US</td>\n",
       "      <td>NaN</td>\n",
       "      <td>{ \"Mon\": [[\"10:30\", \"21:00\"]], \"Tue\": [[\"10:30...</td>\n",
       "      <td>Counter Service,Salad,Lunch,Smoothie &amp; Juice B...</td>\n",
       "      <td>NaN</td>\n",
       "      <td>NaN</td>\n",
       "      <td>2019-07-01</td>\n",
       "      <td>POLYGON</td>\n",
       "    </tr>\n",
       "    <tr>\n",
       "      <th>1</th>\n",
       "      <td>222-222@627-s4n-nwk</td>\n",
       "      <td>NaN</td>\n",
       "      <td>Enthaice</td>\n",
       "      <td>NaN</td>\n",
       "      <td>NaN</td>\n",
       "      <td>Restaurants and Other Eating Places</td>\n",
       "      <td>Full-Service Restaurants</td>\n",
       "      <td>722511.00</td>\n",
       "      <td>40.78</td>\n",
       "      <td>-73.95</td>\n",
       "      <td>1598 3rd Ave</td>\n",
       "      <td>New York</td>\n",
       "      <td>NY</td>\n",
       "      <td>10128</td>\n",
       "      <td>US</td>\n",
       "      <td>12122891888.00</td>\n",
       "      <td>NaN</td>\n",
       "      <td>Thai Food</td>\n",
       "      <td>NaN</td>\n",
       "      <td>2020-01-15</td>\n",
       "      <td>2019-07-01</td>\n",
       "      <td>POLYGON</td>\n",
       "    </tr>\n",
       "    <tr>\n",
       "      <th>2</th>\n",
       "      <td>222-222@627-s6m-5fz</td>\n",
       "      <td>NaN</td>\n",
       "      <td>Cash Flow Partners</td>\n",
       "      <td>NaN</td>\n",
       "      <td>NaN</td>\n",
       "      <td>Management, Scientific, and Technical Consulti...</td>\n",
       "      <td>NaN</td>\n",
       "      <td>5416.00</td>\n",
       "      <td>40.85</td>\n",
       "      <td>-73.93</td>\n",
       "      <td>201 Wadsworth Ave</td>\n",
       "      <td>New York</td>\n",
       "      <td>NY</td>\n",
       "      <td>10033</td>\n",
       "      <td>US</td>\n",
       "      <td>12129288600.00</td>\n",
       "      <td>{ \"Mon\": [[\"10:00\", \"18:00\"]], \"Tue\": [[\"10:00...</td>\n",
       "      <td>NaN</td>\n",
       "      <td>NaN</td>\n",
       "      <td>NaN</td>\n",
       "      <td>2019-07-01</td>\n",
       "      <td>POLYGON</td>\n",
       "    </tr>\n",
       "    <tr>\n",
       "      <th>3</th>\n",
       "      <td>222-222@627-s6m-q9f</td>\n",
       "      <td>NaN</td>\n",
       "      <td>Apartments at 134 Haven Ave</td>\n",
       "      <td>NaN</td>\n",
       "      <td>NaN</td>\n",
       "      <td>Lessors of Real Estate</td>\n",
       "      <td>Lessors of Residential Buildings and Dwellings</td>\n",
       "      <td>531110.00</td>\n",
       "      <td>40.85</td>\n",
       "      <td>-73.94</td>\n",
       "      <td>134 Haven Ave</td>\n",
       "      <td>New York</td>\n",
       "      <td>NY</td>\n",
       "      <td>10032</td>\n",
       "      <td>US</td>\n",
       "      <td>NaN</td>\n",
       "      <td>NaN</td>\n",
       "      <td>NaN</td>\n",
       "      <td>NaN</td>\n",
       "      <td>NaN</td>\n",
       "      <td>2019-07-01</td>\n",
       "      <td>POLYGON</td>\n",
       "    </tr>\n",
       "    <tr>\n",
       "      <th>4</th>\n",
       "      <td>222-222@627-s6n-7wk</td>\n",
       "      <td>NaN</td>\n",
       "      <td>New Leaf Restaurant</td>\n",
       "      <td>NaN</td>\n",
       "      <td>NaN</td>\n",
       "      <td>Drinking Places (Alcoholic Beverages)</td>\n",
       "      <td>Drinking Places (Alcoholic Beverages)</td>\n",
       "      <td>722410.00</td>\n",
       "      <td>40.86</td>\n",
       "      <td>-73.93</td>\n",
       "      <td>1 Margaret Corbin Dr</td>\n",
       "      <td>New York</td>\n",
       "      <td>NY</td>\n",
       "      <td>10040</td>\n",
       "      <td>US</td>\n",
       "      <td>12125685323.00</td>\n",
       "      <td>NaN</td>\n",
       "      <td>Bar or Pub,Late Night,American Food</td>\n",
       "      <td>NaN</td>\n",
       "      <td>2020-01-15</td>\n",
       "      <td>2019-07-01</td>\n",
       "      <td>POLYGON</td>\n",
       "    </tr>\n",
       "  </tbody>\n",
       "</table>\n",
       "</div>"
      ],
      "text/plain": [
       "              placekey parent_placekey                location_name                        safegraph_brand_ids      brands                                       top_category                                    sub_category  naics_code  latitude  longitude        street_address      city region  postal_code iso_country_code   phone_number                                         open_hours                                      category_tags opened_on   closed_on tracking_closed_since geometry_type\n",
       "0  222-222@627-s4m-vzz             NaN                   Just Salad  SG_BRAND_fcc6dd7686cfffc04d325dbe5ab994f1  Just Salad                Restaurants and Other Eating Places                        Full-Service Restaurants   722511.00     40.78     -73.96          1471 3rd Ave  New York     NY        10028               US            NaN  { \"Mon\": [[\"10:30\", \"21:00\"]], \"Tue\": [[\"10:30...  Counter Service,Salad,Lunch,Smoothie & Juice B...       NaN         NaN            2019-07-01       POLYGON\n",
       "1  222-222@627-s4n-nwk             NaN                     Enthaice                                        NaN         NaN                Restaurants and Other Eating Places                        Full-Service Restaurants   722511.00     40.78     -73.95          1598 3rd Ave  New York     NY        10128               US 12122891888.00                                                NaN                                          Thai Food       NaN  2020-01-15            2019-07-01       POLYGON\n",
       "2  222-222@627-s6m-5fz             NaN           Cash Flow Partners                                        NaN         NaN  Management, Scientific, and Technical Consulti...                                             NaN     5416.00     40.85     -73.93     201 Wadsworth Ave  New York     NY        10033               US 12129288600.00  { \"Mon\": [[\"10:00\", \"18:00\"]], \"Tue\": [[\"10:00...                                                NaN       NaN         NaN            2019-07-01       POLYGON\n",
       "3  222-222@627-s6m-q9f             NaN  Apartments at 134 Haven Ave                                        NaN         NaN                             Lessors of Real Estate  Lessors of Residential Buildings and Dwellings   531110.00     40.85     -73.94         134 Haven Ave  New York     NY        10032               US            NaN                                                NaN                                                NaN       NaN         NaN            2019-07-01       POLYGON\n",
       "4  222-222@627-s6n-7wk             NaN          New Leaf Restaurant                                        NaN         NaN              Drinking Places (Alcoholic Beverages)           Drinking Places (Alcoholic Beverages)   722410.00     40.86     -73.93  1 Margaret Corbin Dr  New York     NY        10040               US 12125685323.00                                                NaN                Bar or Pub,Late Night,American Food       NaN  2020-01-15            2019-07-01       POLYGON"
      ]
     },
     "execution_count": 5,
     "metadata": {},
     "output_type": "execute_result"
    }
   ],
   "source": [
    "core=pd.read_csv('../data/core/core.csv')\n",
    "print(core.shape)\n",
    "core.head()"
   ]
  },
  {
   "cell_type": "markdown",
   "id": "f47f54c1",
   "metadata": {},
   "source": [
    "## 2. Data Prepocess"
   ]
  },
  {
   "cell_type": "code",
   "execution_count": 6,
   "id": "6c290f4a",
   "metadata": {},
   "outputs": [],
   "source": [
    "core_columns=['placekey','location_name','naics_code','latitude',\n",
    "             'longitude','postal_code','top_category','sub_category']\n",
    "core_df=core[core_columns]"
   ]
  },
  {
   "cell_type": "code",
   "execution_count": 7,
   "id": "f8fc07ae",
   "metadata": {},
   "outputs": [],
   "source": [
    "pattern_column=['placekey','date_range_start','date_range_end','raw_visit_counts',\n",
    "             'raw_visitor_counts','visits_by_day','visitor_home_cbgs','poi_cbg',\n",
    "                     'visitor_daytime_cbgs','distance_from_home','bucketed_dwell_times',\n",
    "                     'related_same_day_brand','device_type','median_dwell','bucketed_dwell_times']\n",
    "\n"
   ]
  },
  {
   "cell_type": "markdown",
   "id": "a0145acf",
   "metadata": {},
   "source": [
    "## 3. Data Processing\n",
    "1. creat new variable:\n",
    "    ##### a. pop_up_col\n",
    "    ##### b. date_range_start: tranfer from string to time object\n",
    "    ##### c. sg_wp__median_dwell_hour: average dwelling time by hour\n",
    "    ##### d. category: aggravated category with reference from:\n",
    "    https://www.census.gov/naics/history/docs/cm_2.pdf\n",
    "    especially, naics 721 is accomodation, 722 is food:\n",
    "    https://www.naics.com/naics-code-description/?code=72\n",
    "    "
   ]
  },
  {
   "cell_type": "code",
   "execution_count": 8,
   "id": "f03e6e0e",
   "metadata": {},
   "outputs": [],
   "source": [
    "def process_data(raw_data):\n",
    "    print('raw_data shape',raw_data.shape)\n",
    "    data_pre=raw_data.merge(core,left_on='placekey',right_on='placekey')\n",
    "    data = data_pre.dropna(subset=['naics_code'])\n",
    "    # preprocess data\n",
    "    data['pop_up_col'] = 'name: ' + data.location_name + '；' + 'type:' + data.sub_category + '；' + 'stay time: ' + \\\n",
    "                        data['median_dwell'].astype(str) + '；' + 'visit number: ' + data[\n",
    "                            'raw_visit_counts'].astype(str)\n",
    "    data[\"date_range_start\"] = pd.to_datetime(data[\"date_range_start\"])\n",
    "\n",
    "    # aggravate the business type of data by naics code\n",
    "    data['naics_code'] = data.naics_code.astype(int)\n",
    "\n",
    "    data['naics_2dig'] = data.naics_code.astype(str).str[:2].astype(int)\n",
    "    data['naics_3dig'] = data.naics_code.astype(str).str[:3].astype(int)\n",
    "\n",
    "    # naics code classification\n",
    "    data.loc[data['naics_2dig'] == 11, 'category'] = 'Other'\n",
    "    data.loc[data['naics_2dig'] == 21, 'category'] = 'Other'\n",
    "    data.loc[data['naics_2dig'] == 49, 'category'] = 'Other'\n",
    "    data.loc[data['naics_2dig'] == 42, 'category'] = 'Other'\n",
    "    data.loc[data['naics_2dig'] == 22, 'category'] = 'Other'\n",
    "    data.loc[data['naics_2dig'] == 51, 'category'] = 'Other'\n",
    "    data.loc[data['naics_2dig'] == 81, 'category'] = 'Other'\n",
    "    \n",
    "    data.loc[data['naics_2dig'] == 23, 'category'] = 'Goods Production'\n",
    "    data.loc[data['naics_2dig'] == 31, 'category'] = 'Goods Production'\n",
    "    data.loc[data['naics_2dig'] == 32, 'category'] = 'Goods Production'\n",
    "    data.loc[data['naics_2dig'] == 33, 'category'] = 'Goods Production'\n",
    "    \n",
    "    data.loc[data['naics_2dig'] == 42, 'category'] = 'Wholesale and Retail'\n",
    "    data.loc[data['naics_2dig'] == 43, 'category'] = 'Wholesale and Retail'\n",
    "    data.loc[data['naics_2dig'] == 44, 'category'] = 'Wholesale and Retail'\n",
    "    data.loc[data['naics_2dig'] == 45, 'category'] = 'Wholesale and Retail'\n",
    "    \n",
    "    data.loc[data['naics_2dig'] == 54, 'category'] = 'Professional and Business Services'\n",
    "    data.loc[data['naics_2dig'] == 55, 'category'] = 'Professional and Business Services'\n",
    "    data.loc[data['naics_2dig'] == 56, 'category'] = 'Professional and Business Services'    \n",
    "\n",
    "    data.loc[data['naics_2dig'] == 48, 'category'] = 'Transportation'\n",
    "    \n",
    "    data.loc[data['naics_2dig'] == 71, 'category'] = 'Recreation'\n",
    "    \n",
    "    data.loc[data['naics_2dig'] == 62, 'category'] = 'Health Care'\n",
    "    \n",
    "    data.loc[data['naics_2dig'] == 61, 'category'] = 'Education'\n",
    "    \n",
    "    data.loc[data['naics_2dig'] == 52, 'category'] = 'Financial Activities'\n",
    "\n",
    "    data.loc[data['naics_2dig'] == 53, 'category'] = 'Real Estate'\n",
    "    \n",
    "    # devide 'Accomodation' and 'Food' according to the first 3 digit\n",
    "\n",
    "    data.loc[data['naics_3dig'] == 721, 'category'] = 'Accomodation'\n",
    "    data.loc[data['naics_3dig'] == 722, 'category'] = 'Food'\n",
    "    \n",
    "    data=data.dropna(subset=[\"poi_cbg\"])\n",
    "\n",
    "    data['trac_id']=data['poi_cbg'].astype('int64')\n",
    "    data['tract_id']=data['trac_id'].astype(str).str[:11].astype('int64')\n",
    "    print('current data shape',data.shape)\n",
    "    return data\n"
   ]
  },
  {
   "cell_type": "code",
   "execution_count": 9,
   "id": "9883d86f",
   "metadata": {
    "scrolled": true
   },
   "outputs": [
    {
     "name": "stdout",
     "output_type": "stream",
     "text": [
      "raw_data shape (36695, 15)\n"
     ]
    },
    {
     "name": "stderr",
     "output_type": "stream",
     "text": [
      "C:\\Users\\Xiaoyi WU\\AppData\\Local\\Temp\\ipykernel_25904\\2236020595.py:6: SettingWithCopyWarning: \n",
      "A value is trying to be set on a copy of a slice from a DataFrame.\n",
      "Try using .loc[row_indexer,col_indexer] = value instead\n",
      "\n",
      "See the caveats in the documentation: https://pandas.pydata.org/pandas-docs/stable/user_guide/indexing.html#returning-a-view-versus-a-copy\n",
      "  data['pop_up_col'] = 'name: ' + data.location_name + '；' + 'type:' + data.sub_category + '；' + 'stay time: ' + \\\n",
      "C:\\Users\\Xiaoyi WU\\AppData\\Local\\Temp\\ipykernel_25904\\2236020595.py:9: SettingWithCopyWarning: \n",
      "A value is trying to be set on a copy of a slice from a DataFrame.\n",
      "Try using .loc[row_indexer,col_indexer] = value instead\n",
      "\n",
      "See the caveats in the documentation: https://pandas.pydata.org/pandas-docs/stable/user_guide/indexing.html#returning-a-view-versus-a-copy\n",
      "  data[\"date_range_start\"] = pd.to_datetime(data[\"date_range_start\"])\n",
      "C:\\Users\\Xiaoyi WU\\AppData\\Local\\Temp\\ipykernel_25904\\2236020595.py:12: SettingWithCopyWarning: \n",
      "A value is trying to be set on a copy of a slice from a DataFrame.\n",
      "Try using .loc[row_indexer,col_indexer] = value instead\n",
      "\n",
      "See the caveats in the documentation: https://pandas.pydata.org/pandas-docs/stable/user_guide/indexing.html#returning-a-view-versus-a-copy\n",
      "  data['naics_code'] = data.naics_code.astype(int)\n",
      "C:\\Users\\Xiaoyi WU\\AppData\\Local\\Temp\\ipykernel_25904\\2236020595.py:14: SettingWithCopyWarning: \n",
      "A value is trying to be set on a copy of a slice from a DataFrame.\n",
      "Try using .loc[row_indexer,col_indexer] = value instead\n",
      "\n",
      "See the caveats in the documentation: https://pandas.pydata.org/pandas-docs/stable/user_guide/indexing.html#returning-a-view-versus-a-copy\n",
      "  data['naics_2dig'] = data.naics_code.astype(str).str[:2].astype(int)\n",
      "C:\\Users\\Xiaoyi WU\\AppData\\Local\\Temp\\ipykernel_25904\\2236020595.py:15: SettingWithCopyWarning: \n",
      "A value is trying to be set on a copy of a slice from a DataFrame.\n",
      "Try using .loc[row_indexer,col_indexer] = value instead\n",
      "\n",
      "See the caveats in the documentation: https://pandas.pydata.org/pandas-docs/stable/user_guide/indexing.html#returning-a-view-versus-a-copy\n",
      "  data['naics_3dig'] = data.naics_code.astype(str).str[:3].astype(int)\n"
     ]
    },
    {
     "name": "stdout",
     "output_type": "stream",
     "text": [
      "current data shape (36587, 42)\n"
     ]
    },
    {
     "name": "stderr",
     "output_type": "stream",
     "text": [
      "C:\\Users\\Xiaoyi WU\\.conda\\envs\\py38\\lib\\site-packages\\pandas\\core\\indexing.py:1684: SettingWithCopyWarning: \n",
      "A value is trying to be set on a copy of a slice from a DataFrame.\n",
      "Try using .loc[row_indexer,col_indexer] = value instead\n",
      "\n",
      "See the caveats in the documentation: https://pandas.pydata.org/pandas-docs/stable/user_guide/indexing.html#returning-a-view-versus-a-copy\n",
      "  self.obj[key] = infer_fill_value(value)\n",
      "C:\\Users\\Xiaoyi WU\\.conda\\envs\\py38\\lib\\site-packages\\pandas\\core\\indexing.py:1817: SettingWithCopyWarning: \n",
      "A value is trying to be set on a copy of a slice from a DataFrame.\n",
      "Try using .loc[row_indexer,col_indexer] = value instead\n",
      "\n",
      "See the caveats in the documentation: https://pandas.pydata.org/pandas-docs/stable/user_guide/indexing.html#returning-a-view-versus-a-copy\n",
      "  self._setitem_single_column(loc, value, pi)\n"
     ]
    }
   ],
   "source": [
    "pattern_mar_19=pattern_1[pattern_column].loc[pattern_1['date_range_start']=='2019-03-01T00:00:00-05:00']\n",
    "df_mar_19=process_data(pattern_mar_19)\n"
   ]
  },
  {
   "cell_type": "code",
   "execution_count": 10,
   "id": "4c08ff88",
   "metadata": {},
   "outputs": [
    {
     "name": "stdout",
     "output_type": "stream",
     "text": [
      "raw_data shape (31512, 15)\n"
     ]
    },
    {
     "name": "stderr",
     "output_type": "stream",
     "text": [
      "C:\\Users\\Xiaoyi WU\\AppData\\Local\\Temp\\ipykernel_25904\\2236020595.py:6: SettingWithCopyWarning: \n",
      "A value is trying to be set on a copy of a slice from a DataFrame.\n",
      "Try using .loc[row_indexer,col_indexer] = value instead\n",
      "\n",
      "See the caveats in the documentation: https://pandas.pydata.org/pandas-docs/stable/user_guide/indexing.html#returning-a-view-versus-a-copy\n",
      "  data['pop_up_col'] = 'name: ' + data.location_name + '；' + 'type:' + data.sub_category + '；' + 'stay time: ' + \\\n",
      "C:\\Users\\Xiaoyi WU\\AppData\\Local\\Temp\\ipykernel_25904\\2236020595.py:9: SettingWithCopyWarning: \n",
      "A value is trying to be set on a copy of a slice from a DataFrame.\n",
      "Try using .loc[row_indexer,col_indexer] = value instead\n",
      "\n",
      "See the caveats in the documentation: https://pandas.pydata.org/pandas-docs/stable/user_guide/indexing.html#returning-a-view-versus-a-copy\n",
      "  data[\"date_range_start\"] = pd.to_datetime(data[\"date_range_start\"])\n",
      "C:\\Users\\Xiaoyi WU\\AppData\\Local\\Temp\\ipykernel_25904\\2236020595.py:12: SettingWithCopyWarning: \n",
      "A value is trying to be set on a copy of a slice from a DataFrame.\n",
      "Try using .loc[row_indexer,col_indexer] = value instead\n",
      "\n",
      "See the caveats in the documentation: https://pandas.pydata.org/pandas-docs/stable/user_guide/indexing.html#returning-a-view-versus-a-copy\n",
      "  data['naics_code'] = data.naics_code.astype(int)\n",
      "C:\\Users\\Xiaoyi WU\\AppData\\Local\\Temp\\ipykernel_25904\\2236020595.py:14: SettingWithCopyWarning: \n",
      "A value is trying to be set on a copy of a slice from a DataFrame.\n",
      "Try using .loc[row_indexer,col_indexer] = value instead\n",
      "\n",
      "See the caveats in the documentation: https://pandas.pydata.org/pandas-docs/stable/user_guide/indexing.html#returning-a-view-versus-a-copy\n",
      "  data['naics_2dig'] = data.naics_code.astype(str).str[:2].astype(int)\n",
      "C:\\Users\\Xiaoyi WU\\AppData\\Local\\Temp\\ipykernel_25904\\2236020595.py:15: SettingWithCopyWarning: \n",
      "A value is trying to be set on a copy of a slice from a DataFrame.\n",
      "Try using .loc[row_indexer,col_indexer] = value instead\n",
      "\n",
      "See the caveats in the documentation: https://pandas.pydata.org/pandas-docs/stable/user_guide/indexing.html#returning-a-view-versus-a-copy\n",
      "  data['naics_3dig'] = data.naics_code.astype(str).str[:3].astype(int)\n"
     ]
    },
    {
     "name": "stdout",
     "output_type": "stream",
     "text": [
      "current data shape (31424, 42)\n"
     ]
    }
   ],
   "source": [
    "pattern_mar_20=pattern_2[pattern_column].loc[pattern_2['date_range_start']=='2020-03-01T00:00:00-05:00']\n",
    "df_mar_20=process_data(pattern_mar_20)"
   ]
  },
  {
   "cell_type": "code",
   "execution_count": 11,
   "id": "56194c51",
   "metadata": {},
   "outputs": [
    {
     "name": "stdout",
     "output_type": "stream",
     "text": [
      "raw_data shape (29162, 15)\n"
     ]
    },
    {
     "name": "stderr",
     "output_type": "stream",
     "text": [
      "C:\\Users\\Xiaoyi WU\\AppData\\Local\\Temp\\ipykernel_25904\\2236020595.py:6: SettingWithCopyWarning: \n",
      "A value is trying to be set on a copy of a slice from a DataFrame.\n",
      "Try using .loc[row_indexer,col_indexer] = value instead\n",
      "\n",
      "See the caveats in the documentation: https://pandas.pydata.org/pandas-docs/stable/user_guide/indexing.html#returning-a-view-versus-a-copy\n",
      "  data['pop_up_col'] = 'name: ' + data.location_name + '；' + 'type:' + data.sub_category + '；' + 'stay time: ' + \\\n",
      "C:\\Users\\Xiaoyi WU\\AppData\\Local\\Temp\\ipykernel_25904\\2236020595.py:9: SettingWithCopyWarning: \n",
      "A value is trying to be set on a copy of a slice from a DataFrame.\n",
      "Try using .loc[row_indexer,col_indexer] = value instead\n",
      "\n",
      "See the caveats in the documentation: https://pandas.pydata.org/pandas-docs/stable/user_guide/indexing.html#returning-a-view-versus-a-copy\n",
      "  data[\"date_range_start\"] = pd.to_datetime(data[\"date_range_start\"])\n",
      "C:\\Users\\Xiaoyi WU\\AppData\\Local\\Temp\\ipykernel_25904\\2236020595.py:12: SettingWithCopyWarning: \n",
      "A value is trying to be set on a copy of a slice from a DataFrame.\n",
      "Try using .loc[row_indexer,col_indexer] = value instead\n",
      "\n",
      "See the caveats in the documentation: https://pandas.pydata.org/pandas-docs/stable/user_guide/indexing.html#returning-a-view-versus-a-copy\n",
      "  data['naics_code'] = data.naics_code.astype(int)\n",
      "C:\\Users\\Xiaoyi WU\\AppData\\Local\\Temp\\ipykernel_25904\\2236020595.py:14: SettingWithCopyWarning: \n",
      "A value is trying to be set on a copy of a slice from a DataFrame.\n",
      "Try using .loc[row_indexer,col_indexer] = value instead\n",
      "\n",
      "See the caveats in the documentation: https://pandas.pydata.org/pandas-docs/stable/user_guide/indexing.html#returning-a-view-versus-a-copy\n",
      "  data['naics_2dig'] = data.naics_code.astype(str).str[:2].astype(int)\n",
      "C:\\Users\\Xiaoyi WU\\AppData\\Local\\Temp\\ipykernel_25904\\2236020595.py:15: SettingWithCopyWarning: \n",
      "A value is trying to be set on a copy of a slice from a DataFrame.\n",
      "Try using .loc[row_indexer,col_indexer] = value instead\n",
      "\n",
      "See the caveats in the documentation: https://pandas.pydata.org/pandas-docs/stable/user_guide/indexing.html#returning-a-view-versus-a-copy\n",
      "  data['naics_3dig'] = data.naics_code.astype(str).str[:3].astype(int)\n"
     ]
    },
    {
     "name": "stdout",
     "output_type": "stream",
     "text": [
      "current data shape (29081, 42)\n"
     ]
    }
   ],
   "source": [
    "pattern_mar_21=pattern_3[pattern_column].loc[pattern_3['date_range_start']=='2021-03-01T00:00:00-05:00']\n",
    "df_mar_21=process_data(pattern_mar_21)"
   ]
  },
  {
   "cell_type": "code",
   "execution_count": 12,
   "id": "9bc01d99",
   "metadata": {},
   "outputs": [],
   "source": [
    "df_mar_19.to_csv('../data_save/df_mar_19.csv')  \n",
    "df_mar_20.to_csv('../data_save/df_mar_20.csv')  \n",
    "df_mar_21.to_csv('../data_save/df_mar_21.csv')  "
   ]
  },
  {
   "cell_type": "markdown",
   "id": "43677681",
   "metadata": {},
   "source": [
    "NA percent <5%, you can ignore the NA values directly"
   ]
  },
  {
   "cell_type": "raw",
   "id": "b9f5a009",
   "metadata": {},
   "source": [
    "### 4.5 Visualize visiting by day"
   ]
  },
  {
   "cell_type": "raw",
   "id": "9de8ce65",
   "metadata": {},
   "source": [
    "def count_by_date(raw_data):\n",
    "    title=namestr(df_2019)[0][-4:]\n",
    "    data = raw_data.groupby(['date_range_start','category'])['sg_wp__raw_visit_counts','sg_wp__median_dwell_hour'].sum().reset_index()\n",
    "\n",
    "    highlight = alt.selection(\n",
    "    type='single', on='mouseover', fields=['date_range_start'], nearest=True)\n",
    "\n",
    "    # Visit count plot\n",
    "    base_counts = alt.Chart(data).encode(\n",
    "    x=alt.X('date_range_start:T', scale=alt.Scale(clamp=False)),\n",
    "    y=alt.Y('sg_wp__raw_visit_counts:Q'),\n",
    "    color=alt.Color('category:O', scale=alt.Scale(scheme='magma')))\n",
    "    points_counts = base_counts.mark_circle().encode(\n",
    "    opacity=alt.value(0),\n",
    "    tooltip=[\n",
    "        alt.Tooltip('date_range_start:T', title='time'),\n",
    "        alt.Tooltip('sg_wp__raw_visit_counts:Q', title='visits count'),\n",
    "        alt.Tooltip('category:O', title='category')\n",
    "    ]).add_selection(highlight)\n",
    "\n",
    "    lines_counts = base_counts.mark_line().encode(\n",
    "    size=alt.condition(~highlight, alt.value(1), alt.value(3)))\n",
    "\n",
    "    chart1=(points_counts + lines_counts).properties(width=600, height=350,title=\"Raw visit counts in %s\"%title).interactive()\n",
    "    chart1.save('./fig/raw_visits_counts_by_date_%s'%title+'.html')\n",
    "\n",
    "        \n",
    "    # Dwell time plot\n",
    "    base_dwell_time = alt.Chart(data).encode(\n",
    "    x=alt.X('date_range_start:T',axis=alt.Axis(title='Date'),scale=alt.Scale(clamp=True)),\n",
    "    y=alt.Y('sg_wp__median_dwell_hour:Q',axis=alt.Axis(title='Dwell hour')),\n",
    "    color=alt.Color('category:O', scale=alt.Scale(scheme='magma')))\n",
    "    points_dwell_time = base_dwell_time.mark_circle().encode(\n",
    "    opacity=alt.value(0),\n",
    "    tooltip=[\n",
    "        alt.Tooltip('date_range_start:T', title='Date'),\n",
    "        alt.Tooltip('sg_wp__median_dwell_hour:Q', title='Stay time by hour'),\n",
    "        alt.Tooltip('category:O', title='Type')\n",
    "    ]).add_selection(highlight)\n",
    "\n",
    "    lines_dwell_time = base_dwell_time.mark_line().encode(\n",
    "    size=alt.condition(~highlight, alt.value(1), alt.value(3)))\n",
    "\n",
    "    chart2=(points_dwell_time + lines_dwell_time).properties(width=600, height=350,title=\"Median dwell hour in %s\"%title).interactive()\n",
    "    chart2.save('./fig/median_dwell_time_by_date_%s'%title+'.html')"
   ]
  },
  {
   "cell_type": "raw",
   "id": "bb888d31",
   "metadata": {},
   "source": [
    "count_by_date(df_2019)\n",
    "count_by_date(df_2020)\n",
    "count_by_date(df_2021)"
   ]
  }
 ],
 "metadata": {
  "kernelspec": {
   "display_name": "Python 3 (ipykernel)",
   "language": "python",
   "name": "python3"
  },
  "language_info": {
   "codemirror_mode": {
    "name": "ipython",
    "version": 3
   },
   "file_extension": ".py",
   "mimetype": "text/x-python",
   "name": "python",
   "nbconvert_exporter": "python",
   "pygments_lexer": "ipython3",
   "version": "3.8.10"
  }
 },
 "nbformat": 4,
 "nbformat_minor": 5
}
