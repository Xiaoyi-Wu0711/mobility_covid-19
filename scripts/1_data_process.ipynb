{
 "cells": [
  {
   "cell_type": "code",
   "execution_count": 1,
   "id": "7ba82bb0",
   "metadata": {},
   "outputs": [],
   "source": [
    "import pandas as pd\n",
    "import numpy as np\n",
    "\n",
    "import utils\n",
    "\n",
    "pd.set_option('display.max_rows', 5000)\n",
    "pd.set_option('display.max_columns', 500)\n",
    "pd.set_option('display.width', 10000)\n",
    "\n",
    "pd.set_option('display.float_format', '{:.2f}'.format)\n"
   ]
  },
  {
   "cell_type": "markdown",
   "id": "7a604be2",
   "metadata": {},
   "source": [
    "## 1. Data Load with raw dataset\n",
    "Here are 4 datasets:\n",
    "1. One dataset of core places in New York City: shape: \n",
    "    (71468, 22)\n",
    "    \n",
    "2. Three datasets of movement pattern for people live in NYC from:\n",
    "    ##### a. 2019/12/23 to 2020/01/13: shape: (68911, 34)\n",
    "    ##### b. 2020/12/21 to 2021/01/11 : shape: (76202, 34)\n",
    "\n",
    "    ##### c. 2021/12/20 to 2022/01/10 : shape: (120011, 55)\n"
   ]
  },
  {
   "cell_type": "code",
   "execution_count": 2,
   "id": "f6f3ef27",
   "metadata": {},
   "outputs": [
    {
     "data": {
      "text/plain": [
       "'E:\\\\Xiaoyi\\\\mobility_covid-19-main\\\\scripts'"
      ]
     },
     "execution_count": 2,
     "metadata": {},
     "output_type": "execute_result"
    }
   ],
   "source": [
    "pwd"
   ]
  },
  {
   "cell_type": "code",
   "execution_count": 6,
   "id": "7f05fe42",
   "metadata": {},
   "outputs": [
    {
     "name": "stdout",
     "output_type": "stream",
     "text": [
      "(2, 1)\n",
      "(2, 1)\n",
      "(2, 1)\n"
     ]
    },
    {
     "data": {
      "text/html": [
       "<div>\n",
       "<style scoped>\n",
       "    .dataframe tbody tr th:only-of-type {\n",
       "        vertical-align: middle;\n",
       "    }\n",
       "\n",
       "    .dataframe tbody tr th {\n",
       "        vertical-align: top;\n",
       "    }\n",
       "\n",
       "    .dataframe thead th {\n",
       "        text-align: right;\n",
       "    }\n",
       "</style>\n",
       "<table border=\"1\" class=\"dataframe\">\n",
       "  <thead>\n",
       "    <tr style=\"text-align: right;\">\n",
       "      <th></th>\n",
       "      <th>version https://git-lfs.github.com/spec/v1</th>\n",
       "    </tr>\n",
       "  </thead>\n",
       "  <tbody>\n",
       "    <tr>\n",
       "      <th>0</th>\n",
       "      <td>oid sha256:cf8008fd972aaa2c4f52048fc56ef0e2e04...</td>\n",
       "    </tr>\n",
       "    <tr>\n",
       "      <th>1</th>\n",
       "      <td>size 198205317</td>\n",
       "    </tr>\n",
       "  </tbody>\n",
       "</table>\n",
       "</div>"
      ],
      "text/plain": [
       "          version https://git-lfs.github.com/spec/v1\n",
       "0  oid sha256:cf8008fd972aaa2c4f52048fc56ef0e2e04...\n",
       "1                                     size 198205317"
      ]
     },
     "execution_count": 6,
     "metadata": {},
     "output_type": "execute_result"
    }
   ],
   "source": [
    "pattern_1=pd.read_csv('../data/3.2019-4.2019.csv')\n",
    "print(pattern_1.shape)\n",
    "\n",
    "pattern_2=pd.read_csv('../data/2.2020-4.2020.csv')\n",
    "print(pattern_2.shape)\n",
    "\n",
    "\n",
    "pattern_3=pd.read_csv('../data/3.2021-4.2021.csv')\n",
    "print(pattern_3.shape)\n",
    "\n"
   ]
  },
  {
   "cell_type": "code",
   "execution_count": 4,
   "id": "5556a36f",
   "metadata": {},
   "outputs": [
    {
     "ename": "KeyError",
     "evalue": "'date_range_start'",
     "output_type": "error",
     "traceback": [
      "\u001b[1;31m---------------------------------------------------------------------------\u001b[0m",
      "\u001b[1;31mKeyError\u001b[0m                                  Traceback (most recent call last)",
      "File \u001b[1;32mC:\\ProgramData\\Miniconda3\\envs\\geo\\lib\\site-packages\\pandas\\core\\indexes\\base.py:3621\u001b[0m, in \u001b[0;36mIndex.get_loc\u001b[1;34m(self, key, method, tolerance)\u001b[0m\n\u001b[0;32m   3620\u001b[0m \u001b[38;5;28;01mtry\u001b[39;00m:\n\u001b[1;32m-> 3621\u001b[0m     \u001b[38;5;28;01mreturn\u001b[39;00m \u001b[38;5;28;43mself\u001b[39;49m\u001b[38;5;241;43m.\u001b[39;49m\u001b[43m_engine\u001b[49m\u001b[38;5;241;43m.\u001b[39;49m\u001b[43mget_loc\u001b[49m\u001b[43m(\u001b[49m\u001b[43mcasted_key\u001b[49m\u001b[43m)\u001b[49m\n\u001b[0;32m   3622\u001b[0m \u001b[38;5;28;01mexcept\u001b[39;00m \u001b[38;5;167;01mKeyError\u001b[39;00m \u001b[38;5;28;01mas\u001b[39;00m err:\n",
      "File \u001b[1;32mC:\\ProgramData\\Miniconda3\\envs\\geo\\lib\\site-packages\\pandas\\_libs\\index.pyx:136\u001b[0m, in \u001b[0;36mpandas._libs.index.IndexEngine.get_loc\u001b[1;34m()\u001b[0m\n",
      "File \u001b[1;32mC:\\ProgramData\\Miniconda3\\envs\\geo\\lib\\site-packages\\pandas\\_libs\\index.pyx:163\u001b[0m, in \u001b[0;36mpandas._libs.index.IndexEngine.get_loc\u001b[1;34m()\u001b[0m\n",
      "File \u001b[1;32mpandas\\_libs\\hashtable_class_helper.pxi:5198\u001b[0m, in \u001b[0;36mpandas._libs.hashtable.PyObjectHashTable.get_item\u001b[1;34m()\u001b[0m\n",
      "File \u001b[1;32mpandas\\_libs\\hashtable_class_helper.pxi:5206\u001b[0m, in \u001b[0;36mpandas._libs.hashtable.PyObjectHashTable.get_item\u001b[1;34m()\u001b[0m\n",
      "\u001b[1;31mKeyError\u001b[0m: 'date_range_start'",
      "\nThe above exception was the direct cause of the following exception:\n",
      "\u001b[1;31mKeyError\u001b[0m                                  Traceback (most recent call last)",
      "Input \u001b[1;32mIn [4]\u001b[0m, in \u001b[0;36m<module>\u001b[1;34m\u001b[0m\n\u001b[0;32m      1\u001b[0m \u001b[38;5;66;03m#verification\u001b[39;00m\n\u001b[1;32m----> 2\u001b[0m tmp\u001b[38;5;241m=\u001b[39mpattern_1\u001b[38;5;241m.\u001b[39mloc[\u001b[43mpattern_1\u001b[49m\u001b[43m[\u001b[49m\u001b[38;5;124;43m'\u001b[39;49m\u001b[38;5;124;43mdate_range_start\u001b[39;49m\u001b[38;5;124;43m'\u001b[39;49m\u001b[43m]\u001b[49m\u001b[38;5;241m==\u001b[39m\u001b[38;5;124m'\u001b[39m\u001b[38;5;124m2019-03-01T00:00:00-05:00\u001b[39m\u001b[38;5;124m'\u001b[39m]\n\u001b[0;32m      3\u001b[0m \u001b[38;5;28mprint\u001b[39m(tmp[[\u001b[38;5;124m'\u001b[39m\u001b[38;5;124mraw_visit_counts\u001b[39m\u001b[38;5;124m'\u001b[39m,\u001b[38;5;124m'\u001b[39m\u001b[38;5;124mraw_visitor_counts\u001b[39m\u001b[38;5;124m'\u001b[39m]]\u001b[38;5;241m.\u001b[39msum())\n\u001b[0;32m      4\u001b[0m tmp\u001b[38;5;241m=\u001b[39mpattern_2\u001b[38;5;241m.\u001b[39mloc[pattern_2[\u001b[38;5;124m'\u001b[39m\u001b[38;5;124mdate_range_start\u001b[39m\u001b[38;5;124m'\u001b[39m]\u001b[38;5;241m==\u001b[39m\u001b[38;5;124m'\u001b[39m\u001b[38;5;124m2020-03-01T00:00:00-05:00\u001b[39m\u001b[38;5;124m'\u001b[39m]\n",
      "File \u001b[1;32mC:\\ProgramData\\Miniconda3\\envs\\geo\\lib\\site-packages\\pandas\\core\\frame.py:3505\u001b[0m, in \u001b[0;36mDataFrame.__getitem__\u001b[1;34m(self, key)\u001b[0m\n\u001b[0;32m   3503\u001b[0m \u001b[38;5;28;01mif\u001b[39;00m \u001b[38;5;28mself\u001b[39m\u001b[38;5;241m.\u001b[39mcolumns\u001b[38;5;241m.\u001b[39mnlevels \u001b[38;5;241m>\u001b[39m \u001b[38;5;241m1\u001b[39m:\n\u001b[0;32m   3504\u001b[0m     \u001b[38;5;28;01mreturn\u001b[39;00m \u001b[38;5;28mself\u001b[39m\u001b[38;5;241m.\u001b[39m_getitem_multilevel(key)\n\u001b[1;32m-> 3505\u001b[0m indexer \u001b[38;5;241m=\u001b[39m \u001b[38;5;28;43mself\u001b[39;49m\u001b[38;5;241;43m.\u001b[39;49m\u001b[43mcolumns\u001b[49m\u001b[38;5;241;43m.\u001b[39;49m\u001b[43mget_loc\u001b[49m\u001b[43m(\u001b[49m\u001b[43mkey\u001b[49m\u001b[43m)\u001b[49m\n\u001b[0;32m   3506\u001b[0m \u001b[38;5;28;01mif\u001b[39;00m is_integer(indexer):\n\u001b[0;32m   3507\u001b[0m     indexer \u001b[38;5;241m=\u001b[39m [indexer]\n",
      "File \u001b[1;32mC:\\ProgramData\\Miniconda3\\envs\\geo\\lib\\site-packages\\pandas\\core\\indexes\\base.py:3623\u001b[0m, in \u001b[0;36mIndex.get_loc\u001b[1;34m(self, key, method, tolerance)\u001b[0m\n\u001b[0;32m   3621\u001b[0m     \u001b[38;5;28;01mreturn\u001b[39;00m \u001b[38;5;28mself\u001b[39m\u001b[38;5;241m.\u001b[39m_engine\u001b[38;5;241m.\u001b[39mget_loc(casted_key)\n\u001b[0;32m   3622\u001b[0m \u001b[38;5;28;01mexcept\u001b[39;00m \u001b[38;5;167;01mKeyError\u001b[39;00m \u001b[38;5;28;01mas\u001b[39;00m err:\n\u001b[1;32m-> 3623\u001b[0m     \u001b[38;5;28;01mraise\u001b[39;00m \u001b[38;5;167;01mKeyError\u001b[39;00m(key) \u001b[38;5;28;01mfrom\u001b[39;00m \u001b[38;5;21;01merr\u001b[39;00m\n\u001b[0;32m   3624\u001b[0m \u001b[38;5;28;01mexcept\u001b[39;00m \u001b[38;5;167;01mTypeError\u001b[39;00m:\n\u001b[0;32m   3625\u001b[0m     \u001b[38;5;66;03m# If we have a listlike key, _check_indexing_error will raise\u001b[39;00m\n\u001b[0;32m   3626\u001b[0m     \u001b[38;5;66;03m#  InvalidIndexError. Otherwise we fall through and re-raise\u001b[39;00m\n\u001b[0;32m   3627\u001b[0m     \u001b[38;5;66;03m#  the TypeError.\u001b[39;00m\n\u001b[0;32m   3628\u001b[0m     \u001b[38;5;28mself\u001b[39m\u001b[38;5;241m.\u001b[39m_check_indexing_error(key)\n",
      "\u001b[1;31mKeyError\u001b[0m: 'date_range_start'"
     ]
    }
   ],
   "source": [
    "#verification\n",
    "tmp=pattern_1.loc[pattern_1['date_range_start']=='2019-03-01T00:00:00-05:00']\n",
    "print(tmp[['raw_visit_counts','raw_visitor_counts']].sum())\n",
    "tmp=pattern_2.loc[pattern_2['date_range_start']=='2020-03-01T00:00:00-05:00']\n",
    "print(tmp[['raw_visit_counts','raw_visitor_counts']].sum())\n",
    "tmp=pattern_3.loc[pattern_3['date_range_start']=='2021-03-01T00:00:00-05:00']\n",
    "print(tmp[['raw_visit_counts','raw_visitor_counts']].sum())"
   ]
  },
  {
   "cell_type": "code",
   "execution_count": null,
   "id": "b30919a1",
   "metadata": {
    "scrolled": true
   },
   "outputs": [],
   "source": [
    "core=pd.read_csv('../data/core/core.csv')\n",
    "print(core.shape)\n",
    "core.head()"
   ]
  },
  {
   "cell_type": "markdown",
   "id": "f47f54c1",
   "metadata": {},
   "source": [
    "## 2. Data Prepocess"
   ]
  },
  {
   "cell_type": "code",
   "execution_count": null,
   "id": "6c290f4a",
   "metadata": {},
   "outputs": [],
   "source": [
    "core_columns=['placekey','location_name','naics_code','latitude',\n",
    "             'longitude','postal_code','top_category','sub_category']\n",
    "core_df=core[core_columns]"
   ]
  },
  {
   "cell_type": "code",
   "execution_count": null,
   "id": "f8fc07ae",
   "metadata": {},
   "outputs": [],
   "source": [
    "pattern_column=['placekey','date_range_start','date_range_end','raw_visit_counts',\n",
    "             'raw_visitor_counts','visits_by_day','visitor_home_cbgs','poi_cbg',\n",
    "                     'visitor_daytime_cbgs','distance_from_home','bucketed_dwell_times',\n",
    "                     'related_same_day_brand','device_type','median_dwell','bucketed_dwell_times']\n"
   ]
  },
  {
   "cell_type": "markdown",
   "id": "a0145acf",
   "metadata": {},
   "source": [
    "## 3. Data Processing\n",
    "1. creat new variable:\n",
    "    ##### a. pop_up_col\n",
    "    ##### b. date_range_start: tranfer from string to time object\n",
    "    ##### c. sg_wp__median_dwell_hour: average dwelling time by hour\n",
    "    ##### d. category: aggravated category with reference from:\n",
    "    https://www.census.gov/naics/history/docs/cm_2.pdf\n",
    "    especially, naics 721 is accomodation, 722 is food:\n",
    "    https://www.naics.com/naics-code-description/?code=72\n",
    "    "
   ]
  },
  {
   "cell_type": "code",
   "execution_count": null,
   "id": "f03e6e0e",
   "metadata": {},
   "outputs": [],
   "source": [
    "def process_data(raw_data):\n",
    "    print('raw_data shape',raw_data.shape)\n",
    "    data_pre=raw_data.merge(core,left_on='placekey',right_on='placekey')\n",
    "    data = data_pre.dropna(subset=['naics_code'])\n",
    "    # preprocess data\n",
    "    data['pop_up_col'] = 'name: ' + data.location_name + '；' + 'type:' + data.sub_category + '；' + 'stay time: ' + \\\n",
    "                        data['median_dwell'].astype(str) + '；' + 'visit number: ' + data[\n",
    "                            'raw_visit_counts'].astype(str)\n",
    "    data[\"date_range_start\"] = pd.to_datetime(data[\"date_range_start\"])\n",
    "\n",
    "    # aggravate the business type of data by naics code\n",
    "    data['naics_code'] = data.naics_code.astype(int)\n",
    "\n",
    "    data['naics_2dig'] = data.naics_code.astype(str).str[:2].astype('int64')\n",
    "    data['naics_3dig'] = data.naics_code.astype(str).str[:3].astype(int)\n",
    "    naics_code=pd.read_csv('../data/aggregated_naics.csv')\n",
    "    # naics code classification\n",
    "    data.loc[data['naics_2dig'] == 11, 'category'] = 'Other'\n",
    "    data.loc[data['naics_2dig'] == 21, 'category'] = 'Other'\n",
    "    data.loc[data['naics_2dig'] == 49, 'category'] = 'Other'\n",
    "    data.loc[data['naics_2dig'] == 42, 'category'] = 'Other'\n",
    "    data.loc[data['naics_2dig'] == 22, 'category'] = 'Other'\n",
    "    data.loc[data['naics_2dig'] == 51, 'category'] = 'Other'\n",
    "    data.loc[data['naics_2dig'] == 81, 'category'] = 'Other'\n",
    "    \n",
    "    data.loc[data['naics_2dig'] == 23, 'category'] = 'Goods Production'\n",
    "    data.loc[data['naics_2dig'] == 31, 'category'] = 'Goods Production'\n",
    "    data.loc[data['naics_2dig'] == 32, 'category'] = 'Goods Production'\n",
    "    data.loc[data['naics_2dig'] == 33, 'category'] = 'Goods Production'\n",
    "    \n",
    "    data.loc[data['naics_2dig'] == 42, 'category'] = 'Wholesale and Retail'\n",
    "    data.loc[data['naics_2dig'] == 43, 'category'] = 'Wholesale and Retail'\n",
    "    data.loc[data['naics_2dig'] == 44, 'category'] = 'Wholesale and Retail'\n",
    "    data.loc[data['naics_2dig'] == 45, 'category'] = 'Wholesale and Retail'\n",
    "    \n",
    "    data.loc[data['naics_2dig'] == 54, 'category'] = 'Professional and Business Services'\n",
    "    data.loc[data['naics_2dig'] == 55, 'category'] = 'Professional and Business Services'\n",
    "    data.loc[data['naics_2dig'] == 56, 'category'] = 'Professional and Business Services'    \n",
    "\n",
    "    data.loc[data['naics_2dig'] == 48, 'category'] = 'Transportation'\n",
    "    \n",
    "    data.loc[data['naics_2dig'] == 71, 'category'] = 'Recreation'\n",
    "    \n",
    "    data.loc[data['naics_2dig'] == 62, 'category'] = 'Health Care'\n",
    "    \n",
    "    data.loc[data['naics_2dig'] == 61, 'category'] = 'Education'\n",
    "    \n",
    "    data.loc[data['naics_2dig'] == 52, 'category'] = 'Financial Activities'\n",
    "\n",
    "    data.loc[data['naics_2dig'] == 53, 'category'] = 'Real Estate'\n",
    "    \n",
    "#     devide 'Accomodation' and 'Food' according to the first 3 digit\n",
    "\n",
    "    data.loc[data['naics_3dig'] == 721, 'category'] = 'Accomodation'\n",
    "    data.loc[data['naics_3dig'] == 722, 'category'] = 'Food'\n",
    "#     print(data.shape)\n",
    "#     print(naics_code.dtypes)\n",
    "#     new_Data=pd.merge(data,naics_code,left_on='naics_2dig',right_on='code',how='left')\n",
    "#     print(new_Data.shape)\n",
    "    \n",
    "    data=data.dropna(subset=[\"poi_cbg\"])\n",
    "\n",
    "    data['trac_id']=data['poi_cbg'].astype('int64')\n",
    "    data['tract_id']=data['trac_id'].astype(str).str[:11].astype('int64')\n",
    "    print('current data shape',data.shape)\n",
    "    return data\n"
   ]
  },
  {
   "cell_type": "code",
   "execution_count": 5,
   "id": "9883d86f",
   "metadata": {
    "scrolled": true
   },
   "outputs": [
    {
     "ename": "NameError",
     "evalue": "name 'pattern_column' is not defined",
     "output_type": "error",
     "traceback": [
      "\u001b[1;31m---------------------------------------------------------------------------\u001b[0m",
      "\u001b[1;31mNameError\u001b[0m                                 Traceback (most recent call last)",
      "Input \u001b[1;32mIn [5]\u001b[0m, in \u001b[0;36m<module>\u001b[1;34m\u001b[0m\n\u001b[1;32m----> 1\u001b[0m pattern_mar_19\u001b[38;5;241m=\u001b[39mpattern_1[\u001b[43mpattern_column\u001b[49m]\u001b[38;5;241m.\u001b[39mloc[pattern_1[\u001b[38;5;124m'\u001b[39m\u001b[38;5;124mdate_range_start\u001b[39m\u001b[38;5;124m'\u001b[39m]\u001b[38;5;241m==\u001b[39m\u001b[38;5;124m'\u001b[39m\u001b[38;5;124m2019-03-01T00:00:00-05:00\u001b[39m\u001b[38;5;124m'\u001b[39m]\n\u001b[0;32m      2\u001b[0m df_mar_19\u001b[38;5;241m=\u001b[39mprocess_data(pattern_mar_19)\n\u001b[0;32m      3\u001b[0m df_mar_19\n",
      "\u001b[1;31mNameError\u001b[0m: name 'pattern_column' is not defined"
     ]
    }
   ],
   "source": [
    "pattern_mar_19=pattern_1[pattern_column].loc[pattern_1['date_range_start']=='2019-03-01T00:00:00-05:00']\n",
    "df_mar_19=process_data(pattern_mar_19)\n",
    "df_mar_19"
   ]
  },
  {
   "cell_type": "code",
   "execution_count": 15,
   "id": "74cef6df",
   "metadata": {},
   "outputs": [
    {
     "data": {
      "text/plain": [
       "placekey                                                  object\n",
       "date_range_start          datetime64[ns, pytz.FixedOffset(-300)]\n",
       "date_range_end                                            object\n",
       "raw_visit_counts                                           int64\n",
       "raw_visitor_counts                                         int64\n",
       "visits_by_day                                             object\n",
       "visitor_home_cbgs                                         object\n",
       "poi_cbg                                                    int64\n",
       "visitor_daytime_cbgs                                      object\n",
       "distance_from_home                                       float64\n",
       "bucketed_dwell_times                                      object\n",
       "related_same_day_brand                                    object\n",
       "device_type                                               object\n",
       "median_dwell                                             float64\n",
       "bucketed_dwell_times                                      object\n",
       "parent_placekey                                           object\n",
       "location_name                                             object\n",
       "safegraph_brand_ids                                       object\n",
       "brands                                                    object\n",
       "top_category                                              object\n",
       "sub_category                                              object\n",
       "naics_code                                                 int32\n",
       "latitude                                                 float64\n",
       "longitude                                                float64\n",
       "street_address                                            object\n",
       "city                                                      object\n",
       "region                                                    object\n",
       "postal_code                                                int64\n",
       "iso_country_code                                          object\n",
       "phone_number                                             float64\n",
       "open_hours                                                object\n",
       "category_tags                                             object\n",
       "opened_on                                                 object\n",
       "closed_on                                                 object\n",
       "tracking_closed_since                                     object\n",
       "geometry_type                                             object\n",
       "pop_up_col                                                object\n",
       "naics_2dig                                                 int64\n",
       "naics_3dig                                                 int32\n",
       "category                                                  object\n",
       "trac_id                                                    int64\n",
       "tract_id                                                   int64\n",
       "dtype: object"
      ]
     },
     "execution_count": 15,
     "metadata": {},
     "output_type": "execute_result"
    }
   ],
   "source": [
    "df_mar_19.dtypes"
   ]
  },
  {
   "cell_type": "code",
   "execution_count": 16,
   "id": "4c08ff88",
   "metadata": {},
   "outputs": [
    {
     "name": "stdout",
     "output_type": "stream",
     "text": [
      "raw_data shape (31512, 15)\n"
     ]
    },
    {
     "name": "stderr",
     "output_type": "stream",
     "text": [
      "C:\\Users\\Xiaoyi WU\\AppData\\Local\\Temp\\ipykernel_10456\\205103208.py:6: SettingWithCopyWarning: \n",
      "A value is trying to be set on a copy of a slice from a DataFrame.\n",
      "Try using .loc[row_indexer,col_indexer] = value instead\n",
      "\n",
      "See the caveats in the documentation: https://pandas.pydata.org/pandas-docs/stable/user_guide/indexing.html#returning-a-view-versus-a-copy\n",
      "  data['pop_up_col'] = 'name: ' + data.location_name + '；' + 'type:' + data.sub_category + '；' + 'stay time: ' + \\\n",
      "C:\\Users\\Xiaoyi WU\\AppData\\Local\\Temp\\ipykernel_10456\\205103208.py:9: SettingWithCopyWarning: \n",
      "A value is trying to be set on a copy of a slice from a DataFrame.\n",
      "Try using .loc[row_indexer,col_indexer] = value instead\n",
      "\n",
      "See the caveats in the documentation: https://pandas.pydata.org/pandas-docs/stable/user_guide/indexing.html#returning-a-view-versus-a-copy\n",
      "  data[\"date_range_start\"] = pd.to_datetime(data[\"date_range_start\"])\n",
      "C:\\Users\\Xiaoyi WU\\AppData\\Local\\Temp\\ipykernel_10456\\205103208.py:12: SettingWithCopyWarning: \n",
      "A value is trying to be set on a copy of a slice from a DataFrame.\n",
      "Try using .loc[row_indexer,col_indexer] = value instead\n",
      "\n",
      "See the caveats in the documentation: https://pandas.pydata.org/pandas-docs/stable/user_guide/indexing.html#returning-a-view-versus-a-copy\n",
      "  data['naics_code'] = data.naics_code.astype(int)\n",
      "C:\\Users\\Xiaoyi WU\\AppData\\Local\\Temp\\ipykernel_10456\\205103208.py:14: SettingWithCopyWarning: \n",
      "A value is trying to be set on a copy of a slice from a DataFrame.\n",
      "Try using .loc[row_indexer,col_indexer] = value instead\n",
      "\n",
      "See the caveats in the documentation: https://pandas.pydata.org/pandas-docs/stable/user_guide/indexing.html#returning-a-view-versus-a-copy\n",
      "  data['naics_2dig'] = data.naics_code.astype(str).str[:2].astype('int64')\n",
      "C:\\Users\\Xiaoyi WU\\AppData\\Local\\Temp\\ipykernel_10456\\205103208.py:15: SettingWithCopyWarning: \n",
      "A value is trying to be set on a copy of a slice from a DataFrame.\n",
      "Try using .loc[row_indexer,col_indexer] = value instead\n",
      "\n",
      "See the caveats in the documentation: https://pandas.pydata.org/pandas-docs/stable/user_guide/indexing.html#returning-a-view-versus-a-copy\n",
      "  data['naics_3dig'] = data.naics_code.astype(str).str[:3].astype(int)\n",
      "C:\\Users\\Xiaoyi WU\\.conda\\envs\\py38\\lib\\site-packages\\pandas\\core\\indexing.py:1684: SettingWithCopyWarning: \n",
      "A value is trying to be set on a copy of a slice from a DataFrame.\n",
      "Try using .loc[row_indexer,col_indexer] = value instead\n",
      "\n",
      "See the caveats in the documentation: https://pandas.pydata.org/pandas-docs/stable/user_guide/indexing.html#returning-a-view-versus-a-copy\n",
      "  self.obj[key] = infer_fill_value(value)\n",
      "C:\\Users\\Xiaoyi WU\\.conda\\envs\\py38\\lib\\site-packages\\pandas\\core\\indexing.py:1817: SettingWithCopyWarning: \n",
      "A value is trying to be set on a copy of a slice from a DataFrame.\n",
      "Try using .loc[row_indexer,col_indexer] = value instead\n",
      "\n",
      "See the caveats in the documentation: https://pandas.pydata.org/pandas-docs/stable/user_guide/indexing.html#returning-a-view-versus-a-copy\n",
      "  self._setitem_single_column(loc, value, pi)\n"
     ]
    },
    {
     "name": "stdout",
     "output_type": "stream",
     "text": [
      "current data shape (31424, 42)\n"
     ]
    }
   ],
   "source": [
    "pattern_mar_20=pattern_2[pattern_column].loc[pattern_2['date_range_start']=='2020-03-01T00:00:00-05:00']\n",
    "df_mar_20=process_data(pattern_mar_20)"
   ]
  },
  {
   "cell_type": "code",
   "execution_count": 17,
   "id": "56194c51",
   "metadata": {},
   "outputs": [
    {
     "name": "stdout",
     "output_type": "stream",
     "text": [
      "raw_data shape (29162, 15)\n"
     ]
    },
    {
     "name": "stderr",
     "output_type": "stream",
     "text": [
      "C:\\Users\\Xiaoyi WU\\AppData\\Local\\Temp\\ipykernel_10456\\205103208.py:6: SettingWithCopyWarning: \n",
      "A value is trying to be set on a copy of a slice from a DataFrame.\n",
      "Try using .loc[row_indexer,col_indexer] = value instead\n",
      "\n",
      "See the caveats in the documentation: https://pandas.pydata.org/pandas-docs/stable/user_guide/indexing.html#returning-a-view-versus-a-copy\n",
      "  data['pop_up_col'] = 'name: ' + data.location_name + '；' + 'type:' + data.sub_category + '；' + 'stay time: ' + \\\n",
      "C:\\Users\\Xiaoyi WU\\AppData\\Local\\Temp\\ipykernel_10456\\205103208.py:9: SettingWithCopyWarning: \n",
      "A value is trying to be set on a copy of a slice from a DataFrame.\n",
      "Try using .loc[row_indexer,col_indexer] = value instead\n",
      "\n",
      "See the caveats in the documentation: https://pandas.pydata.org/pandas-docs/stable/user_guide/indexing.html#returning-a-view-versus-a-copy\n",
      "  data[\"date_range_start\"] = pd.to_datetime(data[\"date_range_start\"])\n",
      "C:\\Users\\Xiaoyi WU\\AppData\\Local\\Temp\\ipykernel_10456\\205103208.py:12: SettingWithCopyWarning: \n",
      "A value is trying to be set on a copy of a slice from a DataFrame.\n",
      "Try using .loc[row_indexer,col_indexer] = value instead\n",
      "\n",
      "See the caveats in the documentation: https://pandas.pydata.org/pandas-docs/stable/user_guide/indexing.html#returning-a-view-versus-a-copy\n",
      "  data['naics_code'] = data.naics_code.astype(int)\n",
      "C:\\Users\\Xiaoyi WU\\AppData\\Local\\Temp\\ipykernel_10456\\205103208.py:14: SettingWithCopyWarning: \n",
      "A value is trying to be set on a copy of a slice from a DataFrame.\n",
      "Try using .loc[row_indexer,col_indexer] = value instead\n",
      "\n",
      "See the caveats in the documentation: https://pandas.pydata.org/pandas-docs/stable/user_guide/indexing.html#returning-a-view-versus-a-copy\n",
      "  data['naics_2dig'] = data.naics_code.astype(str).str[:2].astype('int64')\n",
      "C:\\Users\\Xiaoyi WU\\AppData\\Local\\Temp\\ipykernel_10456\\205103208.py:15: SettingWithCopyWarning: \n",
      "A value is trying to be set on a copy of a slice from a DataFrame.\n",
      "Try using .loc[row_indexer,col_indexer] = value instead\n",
      "\n",
      "See the caveats in the documentation: https://pandas.pydata.org/pandas-docs/stable/user_guide/indexing.html#returning-a-view-versus-a-copy\n",
      "  data['naics_3dig'] = data.naics_code.astype(str).str[:3].astype(int)\n"
     ]
    },
    {
     "name": "stdout",
     "output_type": "stream",
     "text": [
      "current data shape (29081, 42)\n"
     ]
    }
   ],
   "source": [
    "pattern_mar_21=pattern_3[pattern_column].loc[pattern_3['date_range_start']=='2021-03-01T00:00:00-05:00']\n",
    "df_mar_21=process_data(pattern_mar_21)"
   ]
  },
  {
   "cell_type": "code",
   "execution_count": 18,
   "id": "9bc01d99",
   "metadata": {},
   "outputs": [],
   "source": [
    "df_mar_19.to_csv('../data_save/df_mar_19.csv')  \n",
    "df_mar_20.to_csv('../data_save/df_mar_20.csv')  \n",
    "df_mar_21.to_csv('../data_save/df_mar_21.csv')  "
   ]
  },
  {
   "cell_type": "markdown",
   "id": "43677681",
   "metadata": {},
   "source": [
    "NA percent <5%, you can ignore the NA values directly"
   ]
  },
  {
   "cell_type": "raw",
   "id": "b9f5a009",
   "metadata": {},
   "source": [
    "### 4.5 Visualize visiting by day"
   ]
  },
  {
   "cell_type": "raw",
   "id": "9de8ce65",
   "metadata": {},
   "source": [
    "def count_by_date(raw_data):\n",
    "    title=namestr(df_2019)[0][-4:]\n",
    "    data = raw_data.groupby(['date_range_start','category'])['sg_wp__raw_visit_counts','sg_wp__median_dwell_hour'].sum().reset_index()\n",
    "\n",
    "    highlight = alt.selection(\n",
    "    type='single', on='mouseover', fields=['date_range_start'], nearest=True)\n",
    "\n",
    "    # Visit count plot\n",
    "    base_counts = alt.Chart(data).encode(\n",
    "    x=alt.X('date_range_start:T', scale=alt.Scale(clamp=False)),\n",
    "    y=alt.Y('sg_wp__raw_visit_counts:Q'),\n",
    "    color=alt.Color('category:O', scale=alt.Scale(scheme='magma')))\n",
    "    points_counts = base_counts.mark_circle().encode(\n",
    "    opacity=alt.value(0),\n",
    "    tooltip=[\n",
    "        alt.Tooltip('date_range_start:T', title='time'),\n",
    "        alt.Tooltip('sg_wp__raw_visit_counts:Q', title='visits count'),\n",
    "        alt.Tooltip('category:O', title='category')\n",
    "    ]).add_selection(highlight)\n",
    "\n",
    "    lines_counts = base_counts.mark_line().encode(\n",
    "    size=alt.condition(~highlight, alt.value(1), alt.value(3)))\n",
    "\n",
    "    chart1=(points_counts + lines_counts).properties(width=600, height=350,title=\"Raw visit counts in %s\"%title).interactive()\n",
    "    chart1.save('./fig/raw_visits_counts_by_date_%s'%title+'.html')\n",
    "\n",
    "        \n",
    "    # Dwell time plot\n",
    "    base_dwell_time = alt.Chart(data).encode(\n",
    "    x=alt.X('date_range_start:T',axis=alt.Axis(title='Date'),scale=alt.Scale(clamp=True)),\n",
    "    y=alt.Y('sg_wp__median_dwell_hour:Q',axis=alt.Axis(title='Dwell hour')),\n",
    "    color=alt.Color('category:O', scale=alt.Scale(scheme='magma')))\n",
    "    points_dwell_time = base_dwell_time.mark_circle().encode(\n",
    "    opacity=alt.value(0),\n",
    "    tooltip=[\n",
    "        alt.Tooltip('date_range_start:T', title='Date'),\n",
    "        alt.Tooltip('sg_wp__median_dwell_hour:Q', title='Stay time by hour'),\n",
    "        alt.Tooltip('category:O', title='Type')\n",
    "    ]).add_selection(highlight)\n",
    "\n",
    "    lines_dwell_time = base_dwell_time.mark_line().encode(\n",
    "    size=alt.condition(~highlight, alt.value(1), alt.value(3)))\n",
    "\n",
    "    chart2=(points_dwell_time + lines_dwell_time).properties(width=600, height=350,title=\"Median dwell hour in %s\"%title).interactive()\n",
    "    chart2.save('./fig/median_dwell_time_by_date_%s'%title+'.html')"
   ]
  },
  {
   "cell_type": "raw",
   "id": "bb888d31",
   "metadata": {},
   "source": [
    "count_by_date(df_2019)\n",
    "count_by_date(df_2020)\n",
    "count_by_date(df_2021)"
   ]
  }
 ],
 "metadata": {
  "kernelspec": {
   "display_name": "Python 3 (ipykernel)",
   "language": "python",
   "name": "python3"
  },
  "language_info": {
   "codemirror_mode": {
    "name": "ipython",
    "version": 3
   },
   "file_extension": ".py",
   "mimetype": "text/x-python",
   "name": "python",
   "nbconvert_exporter": "python",
   "pygments_lexer": "ipython3",
   "version": "3.8.10"
  }
 },
 "nbformat": 4,
 "nbformat_minor": 5
}
